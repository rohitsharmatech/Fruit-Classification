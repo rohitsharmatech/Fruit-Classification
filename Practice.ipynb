{
 "cells": [
  {
   "cell_type": "code",
   "execution_count": 1,
   "metadata": {},
   "outputs": [],
   "source": [
    "def NN(m1,m2,w1,w2,b):\n",
    "    z = m1*w1 + m2*w2 + b\n",
    "    return (1/(1+numpy.exp(-z)))"
   ]
  },
  {
   "cell_type": "code",
   "execution_count": 5,
   "metadata": {},
   "outputs": [
    {
     "name": "stdout",
     "output_type": "stream",
     "text": [
      "seems like its red\n",
      "Its really red\n"
     ]
    }
   ],
   "source": [
    "import numpy\n",
    "import os\n",
    "phrases = ['seems like its', 'looks like', 'I guess', 'possibly', 'guessing...']\n",
    "\n",
    "data = [[3,1.5,1], [2,1,0], [4,1.5, 1], [3,1,0], [3.5,1.5,1], [2,0.5,0],[5.5,1,1],[1,1,0]]\n",
    "\n",
    "w1 = numpy.random.randn()\n",
    "w2 = numpy.random.randn()\n",
    "b = numpy.random.randn()\n",
    "\n",
    "rand_data = data[numpy.random.randint(len(data))]\n",
    "\n",
    "m1 = rand_data[0]\n",
    "m2 = rand_data[1]\n",
    "\n",
    "prediction = NN(m1,m2,w1,w2,b)\n",
    "prediction_text = [\"blue\", \"red\"][int(numpy.round(prediction))]\n",
    "\n",
    "phrase = numpy.random.choice(phrases)  + \" \" + prediction_text\n",
    "\n",
    "print(phrase)\n",
    "o = os.system(\"say \"+phrase)\n",
    "print(\"Its really \"+ [\"blue\", \"red\"][rand_data[2]])"
   ]
  },
  {
   "cell_type": "code",
   "execution_count": 6,
   "metadata": {},
   "outputs": [
    {
     "name": "stdout",
     "output_type": "stream",
     "text": [
      "C:\\Users\\iirohitsharmaii\\Desktop\\ASSIGNMENTS SEM$\n"
     ]
    }
   ],
   "source": [
    "cd C:\\Users\\iirohitsharmaii\\Desktop\\ASSIGNMENTS SEM$"
   ]
  },
  {
   "cell_type": "code",
   "execution_count": 12,
   "metadata": {},
   "outputs": [],
   "source": [
    "import pandas as pd\n",
    "import numpy as np\n",
    "data = pd.read_csv('group4data.txt', delim_whitespace=True, parse_dates=[0], infer_datetime_format=True)"
   ]
  },
  {
   "cell_type": "code",
   "execution_count": 9,
   "metadata": {},
   "outputs": [],
   "source": [
    "fmt = '%.0f%%'"
   ]
  },
  {
   "cell_type": "code",
   "execution_count": 10,
   "metadata": {},
   "outputs": [
    {
     "data": {
      "text/plain": [
       "str"
      ]
     },
     "execution_count": 10,
     "metadata": {},
     "output_type": "execute_result"
    }
   ],
   "source": [
    "type(fmt)"
   ]
  },
  {
   "cell_type": "code",
   "execution_count": 13,
   "metadata": {},
   "outputs": [],
   "source": [
    "perc = np.linspace(0,100,len(data))"
   ]
  },
  {
   "cell_type": "code",
   "execution_count": 14,
   "metadata": {},
   "outputs": [
    {
     "data": {
      "text/plain": [
       "array([0.00000000e+00, 4.17885499e-02, 8.35770999e-02, ...,\n",
       "       9.99164229e+01, 9.99582115e+01, 1.00000000e+02])"
      ]
     },
     "execution_count": 14,
     "metadata": {},
     "output_type": "execute_result"
    }
   ],
   "source": [
    "x_axisvalue = np.linspace(0,90,len(data['']))"
   ]
  },
  {
   "cell_type": "code",
   "execution_count": 15,
   "metadata": {},
   "outputs": [],
   "source": [
    "import matplotlib.pyplot as plt"
   ]
  },
  {
   "cell_type": "code",
   "execution_count": 1,
   "metadata": {},
   "outputs": [
    {
     "ename": "NameError",
     "evalue": "name 'plt' is not defined",
     "output_type": "error",
     "traceback": [
      "\u001b[1;31m---------------------------------------------------------------------------\u001b[0m",
      "\u001b[1;31mNameError\u001b[0m                                 Traceback (most recent call last)",
      "\u001b[1;32m<ipython-input-1-ea9ab32ce841>\u001b[0m in \u001b[0;36m<module>\u001b[1;34m()\u001b[0m\n\u001b[1;32m----> 1\u001b[1;33m \u001b[0mplt\u001b[0m\u001b[1;33m.\u001b[0m\u001b[0mplot\u001b[0m\u001b[1;33m(\u001b[0m\u001b[0mperc\u001b[0m\u001b[1;33m,\u001b[0m \u001b[0mdata\u001b[0m\u001b[1;33m[\u001b[0m\u001b[1;34m''\u001b[0m\u001b[1;33m]\u001b[0m\u001b[1;33m)\u001b[0m\u001b[1;33m\u001b[0m\u001b[0m\n\u001b[0m",
      "\u001b[1;31mNameError\u001b[0m: name 'plt' is not defined"
     ]
    }
   ],
   "source": [
    "plt.plot(perc, data[''])"
   ]
  },
  {
   "cell_type": "code",
   "execution_count": 2,
   "metadata": {},
   "outputs": [],
   "source": [
    "def costf(b):\n",
    "    return (b-4) ** 2"
   ]
  },
  {
   "cell_type": "code",
   "execution_count": 4,
   "metadata": {},
   "outputs": [
    {
     "data": {
      "text/plain": [
       "0"
      ]
     },
     "execution_count": 4,
     "metadata": {},
     "output_type": "execute_result"
    }
   ],
   "source": [
    "costf(4)"
   ]
  },
  {
   "cell_type": "code",
   "execution_count": 5,
   "metadata": {},
   "outputs": [],
   "source": [
    "def num_slope(b):\n",
    "    h = 0.0001\n",
    "    return (costf(b+h) - costf(b))/h"
   ]
  },
  {
   "cell_type": "code",
   "execution_count": 6,
   "metadata": {},
   "outputs": [
    {
     "data": {
      "text/plain": [
       "2.000099999994731"
      ]
     },
     "execution_count": 6,
     "metadata": {},
     "output_type": "execute_result"
    }
   ],
   "source": [
    "num_slope(5)"
   ]
  },
  {
   "cell_type": "code",
   "execution_count": 7,
   "metadata": {},
   "outputs": [
    {
     "data": {
      "text/plain": [
       "-1.9999000000037181"
      ]
     },
     "execution_count": 7,
     "metadata": {},
     "output_type": "execute_result"
    }
   ],
   "source": [
    "num_slope(3)"
   ]
  },
  {
   "cell_type": "code",
   "execution_count": 8,
   "metadata": {},
   "outputs": [
    {
     "data": {
      "text/plain": [
       "9.999999999953388e-05"
      ]
     },
     "execution_count": 8,
     "metadata": {},
     "output_type": "execute_result"
    }
   ],
   "source": [
    "num_slope(4)"
   ]
  },
  {
   "cell_type": "code",
   "execution_count": 11,
   "metadata": {},
   "outputs": [],
   "source": [
    "def slope(b):\n",
    "    return 2* (b-4)"
   ]
  },
  {
   "cell_type": "code",
   "execution_count": 12,
   "metadata": {},
   "outputs": [
    {
     "data": {
      "text/plain": [
       "-2"
      ]
     },
     "execution_count": 12,
     "metadata": {},
     "output_type": "execute_result"
    }
   ],
   "source": [
    "slope(3)"
   ]
  },
  {
   "cell_type": "code",
   "execution_count": 15,
   "metadata": {},
   "outputs": [],
   "source": [
    "b = 8"
   ]
  },
  {
   "cell_type": "code",
   "execution_count": 81,
   "metadata": {},
   "outputs": [
    {
     "name": "stdout",
     "output_type": "stream",
     "text": [
      "4.000001606938044\n"
     ]
    }
   ],
   "source": [
    "\n",
    "b = b - .1 * slope(b)\n",
    "\n",
    "print(b)"
   ]
  },
  {
   "cell_type": "code",
   "execution_count": 86,
   "metadata": {},
   "outputs": [
    {
     "name": "stdout",
     "output_type": "stream",
     "text": [
      "4.000001285550435\n",
      "4.000001028440348\n",
      "4.000000822752279\n",
      "4.000000658201823\n",
      "4.000000526561458\n",
      "4.000000421249167\n",
      "4.000000336999333\n",
      "4.000000269599466\n",
      "4.000000215679573\n",
      "4.0000001725436585\n",
      "4.000000138034927\n",
      "4.0000001104279415\n",
      "4.000000088342353\n",
      "4.000000070673883\n",
      "4.000000056539106\n",
      "4.0000000452312845\n",
      "4.000000036185027\n",
      "4.000000028948022\n",
      "4.000000023158417\n",
      "4.000000018526734\n",
      "4.000000014821387\n",
      "4.000000011857109\n",
      "4.000000009485687\n",
      "4.000000007588549\n",
      "4.00000000607084\n",
      "4.0000000048566715\n",
      "4.000000003885337\n",
      "4.00000000310827\n",
      "4.000000002486616\n",
      "4.000000001989293\n",
      "4.0000000015914345\n",
      "4.000000001273148\n",
      "4.000000001018519\n",
      "4.000000000814815\n",
      "4.000000000651852\n",
      "4.0000000005214815\n",
      "4.000000000417185\n",
      "4.000000000333748\n",
      "4.000000000266999\n",
      "4.000000000213599\n",
      "4.000000000170879\n",
      "4.000000000136703\n",
      "4.000000000109362\n",
      "4.00000000008749\n",
      "4.000000000069992\n",
      "4.000000000055993\n",
      "4.000000000044794\n",
      "4.000000000035835\n",
      "4.000000000028669\n",
      "4.0000000000229345\n",
      "4.000000000018348\n",
      "4.000000000014678\n",
      "4.000000000011743\n",
      "4.000000000009394\n",
      "4.000000000007516\n",
      "4.000000000006013\n",
      "4.00000000000481\n",
      "4.0000000000038485\n",
      "4.000000000003078\n",
      "4.000000000002463\n",
      "4.00000000000197\n",
      "4.000000000001576\n",
      "4.00000000000126\n",
      "4.000000000001008\n",
      "4.0000000000008065\n",
      "4.000000000000645\n",
      "4.000000000000516\n",
      "4.000000000000413\n",
      "4.00000000000033\n",
      "4.000000000000265\n",
      "4.000000000000211\n",
      "4.000000000000169\n",
      "4.000000000000135\n",
      "4.000000000000108\n",
      "4.000000000000087\n",
      "4.000000000000069\n",
      "4.000000000000055\n",
      "4.000000000000044\n",
      "4.0000000000000355\n",
      "4.000000000000028\n",
      "4.000000000000023\n",
      "4.000000000000019\n",
      "4.000000000000015\n",
      "4.000000000000012\n",
      "4.00000000000001\n",
      "4.000000000000008\n",
      "4.000000000000006\n",
      "4.000000000000005\n",
      "4.000000000000004\n",
      "4.0000000000000036\n",
      "4.000000000000003\n",
      "4.000000000000002\n",
      "4.000000000000002\n",
      "4.000000000000002\n",
      "4.000000000000002\n",
      "4.000000000000002\n",
      "4.000000000000002\n",
      "4.000000000000002\n",
      "4.000000000000002\n",
      "4.000000000000002\n"
     ]
    }
   ],
   "source": [
    "for i in  range(100):\n",
    "    b = b - .1*slope(b)\n",
    "    print(b)"
   ]
  },
  {
   "cell_type": "code",
   "execution_count": 53,
   "metadata": {},
   "outputs": [],
   "source": [
    "%matplotlib inline"
   ]
  },
  {
   "cell_type": "code",
   "execution_count": 54,
   "metadata": {},
   "outputs": [],
   "source": [
    "from matplotlib import pyplot as plt\n",
    "import numpy as np"
   ]
  },
  {
   "cell_type": "code",
   "execution_count": 87,
   "metadata": {},
   "outputs": [],
   "source": [
    "data = [[3,   1.5, 1],\n",
    "        [2,   1,   0],\n",
    "        [4,   1.5, 1],\n",
    "        [3,   1,   0],\n",
    "        [3.5, .5,  1],\n",
    "        [2,   .5,  0],\n",
    "        [5.5,  1,  1],\n",
    "        [1,    1,  0]]\n",
    "\n",
    "mystery_flower = [4.5, 1]"
   ]
  },
  {
   "cell_type": "code",
   "execution_count": 56,
   "metadata": {},
   "outputs": [
    {
     "data": {
      "text/plain": [
       "1.5"
      ]
     },
     "execution_count": 56,
     "metadata": {},
     "output_type": "execute_result"
    }
   ],
   "source": [
    "data[0][1]"
   ]
  },
  {
   "cell_type": "code",
   "execution_count": 57,
   "metadata": {},
   "outputs": [],
   "source": [
    "w1 = np.random.randn()\n",
    "w2 = np.random.randn()\n",
    "b = np.random.randn()"
   ]
  },
  {
   "cell_type": "code",
   "execution_count": 85,
   "metadata": {},
   "outputs": [],
   "source": [
    "def sigmoid(x):\n",
    "    return 1/(1 + np.exp(-x))\n",
    "def sigmoid_p(x):\n",
    "    return sigmoid(-x) * (1-sigmoid(-x))"
   ]
  },
  {
   "cell_type": "code",
   "execution_count": 88,
   "metadata": {},
   "outputs": [
    {
     "data": {
      "image/png": "[encoded data removed]",
      "text/plain": [
       "<Figure size 432x288 with 1 Axes>"
      ]
     },
     "metadata": {},
     "output_type": "display_data"
    }
   ],
   "source": [
    "# scatter plot them\n",
    "def vis_data():\n",
    "    plt.grid()\n",
    "\n",
    "    for i in range(len(data)):\n",
    "        c = 'r'\n",
    "        if data[i][2] == 0:\n",
    "            c = 'b'\n",
    "        plt.scatter([data[i][0]], [data[i][1]], c=c)\n",
    "\n",
    "    plt.scatter([mystery_flower[0]], [mystery_flower[1]], c='gray')\n",
    "\n",
    "vis_data()"
   ]
  },
  {
   "cell_type": "code",
   "execution_count": 60,
   "metadata": {},
   "outputs": [
    {
     "data": {
      "image/png": "[encoded data removed]",
      "text/plain": [
       "<Figure size 432x288 with 1 Axes>"
      ]
     },
     "metadata": {},
     "output_type": "display_data"
    }
   ],
   "source": [
    "#scatter data\n",
    "plt.axis([0,6,0,6])\n",
    "plt.grid()\n",
    "for i in range(len(data)):\n",
    "    point = data[i]\n",
    "    color = \"r\"\n",
    "    if point[2] == 0:\n",
    "        color = \"b\"\n",
    "    plt.scatter(point[0], point[1], c =color)"
   ]
  },
  {
   "cell_type": "code",
   "execution_count": 90,
   "metadata": {},
   "outputs": [
    {
     "data": {
      "image/png": "[encoded data removed]",
      "text/plain": [
       "<Figure size 432x288 with 1 Axes>"
      ]
     },
     "metadata": {},
     "output_type": "display_data"
    }
   ],
   "source": [
    "#training \n",
    "learning_rate = 0.1\n",
    "costs=[]\n",
    "\n",
    "w1 = np.random.randn()\n",
    "w2 = np.random.randn() \n",
    "b = np.random.randn() \n",
    "\n",
    "for i in range(10000):\n",
    "    ri = np.random.randint(len(data))\n",
    "    point = data[ri]\n",
    "    \n",
    "    z = point[0] * w1 + point[1] * w2 + b\n",
    "    pred = sigmoid(z)\n",
    "    \n",
    "    target = point[2]\n",
    "    cost = np.square(pred - target)\n",
    "    # print the cost over all data points every 1k iters\n",
    "    if i % 100 == 0:\n",
    "        c = 0\n",
    "        for j in range(len(data)):\n",
    "            p = data[j]\n",
    "            p_pred = sigmoid(w1 * p[0] + w2 * p[1] + b)\n",
    "            c += np.square(p_pred - p[2])\n",
    "        costs.append(c)\n",
    "        \n",
    "    \n",
    "    dcost_pred = 2 * (pred - target)\n",
    "    dpred_dz = sigmoid_p(z)\n",
    "    dz_dw1 = point[0]\n",
    "    dz_dw2 = point[1]\n",
    "    dz_db = 1\n",
    "    \n",
    "    dcost_dz = dcost_pred * dpred_dz\n",
    "    \n",
    "    dcost_dw1 = dcost_dz * dz_dw1\n",
    "    dcost_dw2 = dcost_dz * dz_dw2\n",
    "    dcost_db = dcost_dz * dz_db\n",
    "    \n",
    "    w1 = w1 - learning_rate * dz_dw1\n",
    "    w2 = w2 - learning_rate * dz_dw2\n",
    "    b = b - learning_rate * dz_db\n",
    " \n",
    "fig = plt.plot(costs)"
   ]
  },
  {
   "cell_type": "markdown",
   "metadata": {},
   "source": [
    "# model predictions\n",
    "\n",
    "for i in range(len(data)):\n",
    "    point = data[i]\n",
    "    \n",
    "    print(point)\n",
    "    z = point[0] * w1 + point[1] * w2 + b\n",
    "    pred = sigmoid(z)\n",
    "    \n",
    "    print(\"Pred: {}\".format(pred))"
   ]
  },
  {
   "cell_type": "code",
   "execution_count": 70,
   "metadata": {},
   "outputs": [],
   "source": [
    "%matplotlib inline\n",
    "from matplotlib import pyplot as plt\n",
    "import numpy as np"
   ]
  },
  {
   "cell_type": "code",
   "execution_count": 71,
   "metadata": {},
   "outputs": [],
   "source": [
    "# each point is length, width, type (0, 1)\n",
    "\n",
    "data = [[3,   1.5, 1],\n",
    "        [2,   1,   0],\n",
    "        [4,   1.5, 1],\n",
    "        [3,   1,   0],\n",
    "        [3.5, .5,  1],\n",
    "        [2,   .5,  0],\n",
    "        [5.5,  1,  1],\n",
    "        [1,    1,  0]]\n",
    "\n",
    "mystery_flower = [4.5, 1]"
   ]
  },
  {
   "cell_type": "code",
   "execution_count": 72,
   "metadata": {},
   "outputs": [
    {
     "data": {
      "image/png": "[encoded data removed]",
      "text/plain": [
       "<Figure size 432x288 with 1 Axes>"
      ]
     },
     "metadata": {},
     "output_type": "display_data"
    }
   ],
   "source": [
    "# scatter plot them\n",
    "def vis_data():\n",
    "    plt.grid()\n",
    "\n",
    "    for i in range(len(data)):\n",
    "        c = 'r'\n",
    "        if data[i][2] == 0:\n",
    "            c = 'b'\n",
    "        plt.scatter([data[i][0]], [data[i][1]], c=c)\n",
    "\n",
    "    plt.scatter([mystery_flower[0]], [mystery_flower[1]], c='gray')\n",
    "\n",
    "vis_data()"
   ]
  },
  {
   "cell_type": "code",
   "execution_count": 73,
   "metadata": {},
   "outputs": [
    {
     "data": {
      "image/png": "[encoded data removed]",
      "text/plain": [
       "<Figure size 432x288 with 1 Axes>"
      ]
     },
     "metadata": {},
     "output_type": "display_data"
    }
   ],
   "source": [
    "X = np.linspace(-5, 5, 100)\n",
    "\n",
    "plt.plot(X, sigmoid(X), c=\"b\") # sigmoid in blue\n",
    "fig = plt.plot(X, sigmoid_p(X), c=\"r\") # sigmoid_p in red"
   ]
  },
  {
   "cell_type": "code",
   "execution_count": 74,
   "metadata": {},
   "outputs": [
    {
     "data": {
      "image/png": "[encoded data removed]",
      "text/plain": [
       "<Figure size 432x288 with 1 Axes>"
      ]
     },
     "metadata": {},
     "output_type": "display_data"
    }
   ],
   "source": [
    "\n",
    "def train():\n",
    "    #random init of weights\n",
    "    w1 = np.random.randn()\n",
    "    w2 = np.random.randn()\n",
    "    b = np.random.randn()\n",
    "    \n",
    "    iterations = 10000\n",
    "    learning_rate = 0.1\n",
    "    costs = []\n",
    "    for i in range(iterations):\n",
    "       \n",
    "        ri = np.random.randint(len(data))\n",
    "        point = data[ri]\n",
    "        \n",
    "        z = point[0] * w1 + point[1] * w2 + b\n",
    "        pred = sigmoid(z) \n",
    "        \n",
    "        target = point[2]\n",
    "        \n",
    "      \n",
    "        cost = np.square(pred - target)\n",
    "        \n",
    "       \n",
    "        if i % 100 == 0:\n",
    "            c = 0\n",
    "            for j in range(len(data)):\n",
    "                p = data[j]\n",
    "                p_pred = sigmoid(w1 * p[0] + w2 * p[1] + b)\n",
    "                c += np.square(p_pred - p[2])\n",
    "            costs.append(c)\n",
    "        \n",
    "        dcost_dpred = 2 * (pred - target)\n",
    "        dpred_dz = sigmoid_p(z)\n",
    "        \n",
    "        dz_dw1 = point[0]\n",
    "        dz_dw2 = point[1]\n",
    "        dz_db = 1\n",
    "        \n",
    "        dcost_dz = dcost_dpred * dpred_dz\n",
    "        \n",
    "        dcost_dw1 = dcost_dz * dz_dw1\n",
    "        dcost_dw2 = dcost_dz * dz_dw2\n",
    "        dcost_db = dcost_dz * dz_db\n",
    "        \n",
    "        w1 = w1 - learning_rate * dcost_dw1\n",
    "        w2 = w2 - learning_rate * dcost_dw2\n",
    "        b = b - learning_rate * dcost_db\n",
    "        \n",
    "    return costs, w1, w2, b\n",
    "        \n",
    "costs, w1, w2, b = train()\n",
    "\n",
    "fig = plt.plot(costs)"
   ]
  },
  {
   "cell_type": "code",
   "execution_count": 75,
   "metadata": {},
   "outputs": [
    {
     "name": "stdout",
     "output_type": "stream",
     "text": [
      "0.9897015799161731\n",
      "close to 0 -> blue, close to 1 -> red\n"
     ]
    }
   ],
   "source": [
    "\n",
    "z = w1 * mystery_flower[0] + w2 * mystery_flower[1] + b\n",
    "pred = sigmoid(z)\n",
    "\n",
    "print(pred)\n",
    "print(\"close to 0 -> blue, close to 1 -> red\")"
   ]
  },
  {
   "cell_type": "code",
   "execution_count": 76,
   "metadata": {},
   "outputs": [
    {
     "data": {
      "image/png": "[encoded data removed]",
      "text/plain": [
       "<Figure size 432x288 with 1 Axes>"
      ]
     },
     "metadata": {},
     "output_type": "display_data"
    }
   ],
   "source": [
    "\n",
    "for x in np.linspace(0, 6, 20):\n",
    "    for y in np.linspace(0, 3, 20):\n",
    "        pred = sigmoid(w1 * x + w2 * y + b)\n",
    "        c = 'b'\n",
    "        if pred > .5:\n",
    "            c = 'r'\n",
    "        plt.scatter([x],[y],c=c, alpha=.2)\n",
    "        \n",
    "\n",
    "vis_data()"
   ]
  },
  {
   "cell_type": "code",
   "execution_count": 3,
   "metadata": {},
   "outputs": [
    {
     "ename": "ModuleNotFoundError",
     "evalue": "No module named 'rasa'",
     "output_type": "error",
     "traceback": [
      "\u001b[1;31m---------------------------------------------------------------------------\u001b[0m",
      "\u001b[1;31mModuleNotFoundError\u001b[0m                       Traceback (most recent call last)",
      "\u001b[1;32m<ipython-input-3-bd1b070032ca>\u001b[0m in \u001b[0;36m<module>\u001b[1;34m()\u001b[0m\n\u001b[1;32m----> 1\u001b[1;33m \u001b[1;32mimport\u001b[0m \u001b[0mrasa\u001b[0m\u001b[1;33m\u001b[0m\u001b[0m\n\u001b[0m",
      "\u001b[1;31mModuleNotFoundError\u001b[0m: No module named 'rasa'"
     ]
    }
   ],
   "source": [
    "import pan"
   ]
  },
  {
   "cell_type": "code",
   "execution_count": 4,
   "metadata": {},
   "outputs": [
    {
     "data": {
      "text/plain": [
       "'ytho'"
      ]
     },
     "execution_count": 4,
     "metadata": {},
     "output_type": "execute_result"
    }
   ],
   "source": [
    "\"ppppppython\".strip('apn')"
   ]
  },
  {
   "cell_type": "code",
   "execution_count": 5,
   "metadata": {},
   "outputs": [
    {
     "data": {
      "text/plain": [
       "'py'"
      ]
     },
     "execution_count": 5,
     "metadata": {},
     "output_type": "execute_result"
    }
   ],
   "source": [
    "b='hihipyhihi'\n",
    "b.strip('hi')"
   ]
  },
  {
   "cell_type": "code",
   "execution_count": 6,
   "metadata": {},
   "outputs": [],
   "source": [
    "import dis"
   ]
  },
  {
   "cell_type": "code",
   "execution_count": 7,
   "metadata": {},
   "outputs": [
    {
     "name": "stdout",
     "output_type": "stream",
     "text": [
      "  2           0 LOAD_FAST                0 (a)\n",
      "              2 LOAD_FAST                1 (b)\n",
      "              4 BINARY_ADD\n",
      "              6 RETURN_VALUE\n"
     ]
    }
   ],
   "source": [
    "def func(a,b):\n",
    "    return a+b\n",
    "dis.dis(func)"
   ]
  },
  {
   "cell_type": "code",
   "execution_count": 8,
   "metadata": {},
   "outputs": [
    {
     "name": "stdout",
     "output_type": "stream",
     "text": [
      "C:\\Users\\iirohitsharmaii\\Desktop\\ASSIGNMENTS SEM$\n"
     ]
    }
   ],
   "source": [
    "cd C:\\Users\\iirohitsharmaii\\Desktop\\ASSIGNMENTS SEM$"
   ]
  },
  {
   "cell_type": "code",
   "execution_count": 9,
   "metadata": {},
   "outputs": [],
   "source": [
    "with open('Output2.txt','r') as readObj:\n",
    "    with open('CopyFile.txt','w') as obj:\n",
    "        obj.write(readObj.read())\n",
    "        \n",
    "with open('Output2.txt','w') as obj:\n",
    "    pass"
   ]
  },
  {
   "cell_type": "code",
   "execution_count": 10,
   "metadata": {},
   "outputs": [
    {
     "name": "stdout",
     "output_type": "stream",
     "text": [
      "Calculate salary for months:-7\n",
      "3500\n"
     ]
    }
   ],
   "source": [
    "n = int(input('Calculate salary for months:-'))\n",
    "def recursion(n):\n",
    "    if n == 1:\n",
    "        return 500\n",
    "    else:\n",
    "        return recursion(n-1) + 500\n",
    "    \n",
    "print(recursion(n))"
   ]
  },
  {
   "cell_type": "code",
   "execution_count": 1,
   "metadata": {},
   "outputs": [],
   "source": [
    "import pandas as pd\n",
    "import numpy as np\n",
    "import matplotlib.pyplot as plt\n",
    "%matplotlib inline"
   ]
  },
  {
   "cell_type": "code",
   "execution_count": 5,
   "metadata": {},
   "outputs": [
    {
     "name": "stdout",
     "output_type": "stream",
     "text": [
      "C:\\Users\\iirohitsharmaii\\Desktop\\ASSIGNMENTS SEM$\n"
     ]
    }
   ],
   "source": [
    "cd C:\\Users\\iirohitsharmaii\\Desktop\\ASSIGNMENTS SEM$"
   ]
  },
  {
   "cell_type": "code",
   "execution_count": 9,
   "metadata": {},
   "outputs": [],
   "source": [
    "data = pd.read_csv('cc12.csv')"
   ]
  },
  {
   "cell_type": "code",
   "execution_count": 10,
   "metadata": {},
   "outputs": [
    {
     "data": {
      "text/html": [
       "<div>\n",
       "<style scoped>\n",
       "    .dataframe tbody tr th:only-of-type {\n",
       "        vertical-align: middle;\n",
       "    }\n",
       "\n",
       "    .dataframe tbody tr th {\n",
       "        vertical-align: top;\n",
       "    }\n",
       "\n",
       "    .dataframe thead th {\n",
       "        text-align: right;\n",
       "    }\n",
       "</style>\n",
       "<table border=\"1\" class=\"dataframe\">\n",
       "  <thead>\n",
       "    <tr style=\"text-align: right;\">\n",
       "      <th></th>\n",
       "      <th>PassengerId</th>\n",
       "      <th>Survived</th>\n",
       "      <th>Pclass</th>\n",
       "      <th>Name</th>\n",
       "      <th>Sex</th>\n",
       "      <th>Age</th>\n",
       "      <th>SibSp</th>\n",
       "      <th>Parch</th>\n",
       "      <th>Ticket</th>\n",
       "      <th>Fare</th>\n",
       "      <th>Cabin</th>\n",
       "      <th>Embarked</th>\n",
       "    </tr>\n",
       "  </thead>\n",
       "  <tbody>\n",
       "    <tr>\n",
       "      <th>0</th>\n",
       "      <td>1</td>\n",
       "      <td>0</td>\n",
       "      <td>3</td>\n",
       "      <td>Braund, Mr. Owen Harris</td>\n",
       "      <td>male</td>\n",
       "      <td>22.0</td>\n",
       "      <td>1</td>\n",
       "      <td>0</td>\n",
       "      <td>A/5 21171</td>\n",
       "      <td>7.2500</td>\n",
       "      <td>NaN</td>\n",
       "      <td>S</td>\n",
       "    </tr>\n",
       "    <tr>\n",
       "      <th>1</th>\n",
       "      <td>2</td>\n",
       "      <td>1</td>\n",
       "      <td>1</td>\n",
       "      <td>Cumings, Mrs. John Bradley (Florence Briggs Th...</td>\n",
       "      <td>female</td>\n",
       "      <td>38.0</td>\n",
       "      <td>1</td>\n",
       "      <td>0</td>\n",
       "      <td>PC 17599</td>\n",
       "      <td>71.2833</td>\n",
       "      <td>C85</td>\n",
       "      <td>C</td>\n",
       "    </tr>\n",
       "    <tr>\n",
       "      <th>2</th>\n",
       "      <td>3</td>\n",
       "      <td>1</td>\n",
       "      <td>3</td>\n",
       "      <td>Heikkinen, Miss. Laina</td>\n",
       "      <td>female</td>\n",
       "      <td>26.0</td>\n",
       "      <td>0</td>\n",
       "      <td>0</td>\n",
       "      <td>STON/O2. 3101282</td>\n",
       "      <td>7.9250</td>\n",
       "      <td>NaN</td>\n",
       "      <td>S</td>\n",
       "    </tr>\n",
       "    <tr>\n",
       "      <th>3</th>\n",
       "      <td>4</td>\n",
       "      <td>1</td>\n",
       "      <td>1</td>\n",
       "      <td>Futrelle, Mrs. Jacques Heath (Lily May Peel)</td>\n",
       "      <td>female</td>\n",
       "      <td>35.0</td>\n",
       "      <td>1</td>\n",
       "      <td>0</td>\n",
       "      <td>113803</td>\n",
       "      <td>53.1000</td>\n",
       "      <td>C123</td>\n",
       "      <td>S</td>\n",
       "    </tr>\n",
       "    <tr>\n",
       "      <th>4</th>\n",
       "      <td>5</td>\n",
       "      <td>0</td>\n",
       "      <td>3</td>\n",
       "      <td>Allen, Mr. William Henry</td>\n",
       "      <td>male</td>\n",
       "      <td>35.0</td>\n",
       "      <td>0</td>\n",
       "      <td>0</td>\n",
       "      <td>373450</td>\n",
       "      <td>8.0500</td>\n",
       "      <td>NaN</td>\n",
       "      <td>S</td>\n",
       "    </tr>\n",
       "  </tbody>\n",
       "</table>\n",
       "</div>"
      ],
      "text/plain": [
       "   PassengerId  Survived  Pclass  \\\n",
       "0            1         0       3   \n",
       "1            2         1       1   \n",
       "2            3         1       3   \n",
       "3            4         1       1   \n",
       "4            5         0       3   \n",
       "\n",
       "                                                Name     Sex   Age  SibSp  \\\n",
       "0                            Braund, Mr. Owen Harris    male  22.0      1   \n",
       "1  Cumings, Mrs. John Bradley (Florence Briggs Th...  female  38.0      1   \n",
       "2                             Heikkinen, Miss. Laina  female  26.0      0   \n",
       "3       Futrelle, Mrs. Jacques Heath (Lily May Peel)  female  35.0      1   \n",
       "4                           Allen, Mr. William Henry    male  35.0      0   \n",
       "\n",
       "   Parch            Ticket     Fare Cabin Embarked  \n",
       "0      0         A/5 21171   7.2500   NaN        S  \n",
       "1      0          PC 17599  71.2833   C85        C  \n",
       "2      0  STON/O2. 3101282   7.9250   NaN        S  \n",
       "3      0            113803  53.1000  C123        S  \n",
       "4      0            373450   8.0500   NaN        S  "
      ]
     },
     "execution_count": 10,
     "metadata": {},
     "output_type": "execute_result"
    }
   ],
   "source": [
    "data.head()"
   ]
  },
  {
   "cell_type": "code",
   "execution_count": 12,
   "metadata": {},
   "outputs": [],
   "source": [
    "from sklearn.preprocessing import LabelEncoder"
   ]
  },
  {
   "cell_type": "code",
   "execution_count": 14,
   "metadata": {},
   "outputs": [],
   "source": [
    "training_data = [\n",
    "    ['Green', 3, 'Mango'],\n",
    "    ['Yellow', 3, 'Mango'],\n",
    "    ['Red', 1, 'Grape'],\n",
    "    ['Red', 1, 'Grape'],\n",
    "    ['Yellow', 3, 'Lemon'],\n",
    "]"
   ]
  },
  {
   "cell_type": "code",
   "execution_count": 23,
   "metadata": {},
   "outputs": [],
   "source": [
    "header = ['Color', 'diameter', 'label']\n",
    "\n",
    "def unique_vals(rows, col):\n",
    "    return set([row[col] for row in rows])\n",
    "\n",
    "def class_counts(rows):\n",
    "    counts = {}\n",
    "    for row in rows:\n",
    "        \n",
    "        label = row[-1]\n",
    "        \n",
    "        if label not in counts:\n",
    "            counts[label] = 0\n",
    "        counts[label] += 1\n",
    "    return counts\n",
    "\n",
    "def is_numeric(value):\n",
    "    return isinstance(value, int) or isinstance(value, float)"
   ]
  },
  {
   "cell_type": "code",
   "execution_count": 24,
   "metadata": {},
   "outputs": [],
   "source": [
    "class Question:\n",
    "    def __init__(self, column, value):\n",
    "        self.column = column\n",
    "        self.value = value\n",
    "    def match(self, example):\n",
    "        val = example[self.column]\n",
    "        if is_numeric(val):\n",
    "            return val >= self.value\n",
    "        else:\n",
    "            return val == self.value\n",
    "    def __repr__(self):\n",
    "        condition = \"==\"\n",
    "        if is_numeric(self.value):\n",
    "            condition = \">=\"\n",
    "        return \"Is %s %s %s?\" % (\n",
    "        header[self.column], condition, str(self.value))"
   ]
  },
  {
   "cell_type": "code",
   "execution_count": 25,
   "metadata": {},
   "outputs": [],
   "source": []
  },
  {
   "cell_type": "code",
   "execution_count": 29,
   "metadata": {},
   "outputs": [],
   "source": []
  },
  {
   "cell_type": "code",
   "execution_count": 48,
   "metadata": {},
   "outputs": [],
   "source": [
    "def partition(rows, question):\n",
    "    true_rows, false_rows = [], []\n",
    "    for row in rows:\n",
    "        if question.match(row):\n",
    "            true_rows.append(row)\n",
    "        else:\n",
    "            false_rows.append(row)\n",
    "    return true_rows, false_rows\n",
    "def gini(rows):\n",
    "    \n",
    "    counts = class_counts(rows)\n",
    "    impurity = 1\n",
    "    for lbl in counts:\n",
    "        prob_of_lbl = counts[lbl] / float(len(rows))\n",
    "        impurity -= prob_of_lbl**2\n",
    "    return impurity\n",
    "\n",
    "\n",
    "def info_gain(left, right, current_uncertainity):\n",
    "    p = float(len(left)) / (len(left) + len(right))\n",
    "    return current_uncertainity - p * gini(left) - (1 - p) * gini(right)\n",
    "\n",
    "def find_best_split(rows):\n",
    "    best_gain = 0\n",
    "    best_question = None\n",
    "    current_uncertainity = gini(rows)\n",
    "    \n",
    "    n_features = len(rows[0]) - 1\n",
    "    \n",
    "    for col in range(n_features):\n",
    "        values = set([row[col] for row in rows])\n",
    "        for val in values:\n",
    "            question = Question(col, val)\n",
    "            \n",
    "            true_rows, false_rows = partition(rows, question)\n",
    "            \n",
    "            if len(true_rows) == 0 or len(false_rows) == 0:\n",
    "                continue\n",
    "            \n",
    "            gain = info_gain(true_rows, false_rows, current_uncertainity)\n",
    "            \n",
    "            if gain >= best_gain:\n",
    "                best_gain, best_question = gain, question\n",
    "        return best_gain, best_question\n",
    "    \n",
    "class Leaf:\n",
    "    def __init__(self, rows):\n",
    "        self.predictions = class_counts(rows)\n",
    "            \n",
    "class Decision_Node:\n",
    "    def __init__(self, question, true_branch, false_branch):\n",
    "        self.question = question\n",
    "        self.true_branch = true_branch\n",
    "        self.false_branch = false_branch\n",
    "    \n",
    "def build_tree(rows):\n",
    "    gain, question = find_best_split(rows)\n",
    "    if gain == 0:\n",
    "        return Leaf(rows)\n",
    "    true_rows, false_rows = partition(rows, question)\n",
    "        \n",
    "    true_branch = build_tree(true_rows)\n",
    "    \n",
    "    false_branch = build_tree(false_rows)\n",
    "    \n",
    "    return Decision_Node(question, true_branch, false_branch)\n",
    "\n",
    "def print_tree(node, spacing=\"\"):\n",
    "    if isinstance(node, Leaf):\n",
    "        print(spacing + \"Predict\", node.predictions)\n",
    "        \n",
    "        return\n",
    "    print(spacing + str(node.question))\n",
    "    \n",
    "    print(spacing + '--> True:')\n",
    "    print_tree(node.true_branch, spacing + \"  \")\n",
    "    \n",
    "    print(spacing + '--> False:')\n",
    "    print_tree(node.false_branch, spacing + \"  \")\n",
    "\n",
    "def classify(row, node):\n",
    "    if isinstance(node,Leaf):\n",
    "        return node.predictions\n",
    "    \n",
    "    if node.question.match(row):\n",
    "        return classify(row, node.true_branch)\n",
    "    else:\n",
    "        return classify(row, node.false_branch)\n",
    "\n",
    "def print_leaf(counts) :\n",
    "    total = sum(counts.values()) * 1.0\n",
    "    probs = {}\n",
    "    for lbl in counts.keys():\n",
    "        probs[lbl] = str(int(counts[lbl] / total * 100)) + \"%\"\n",
    "    return probs\n"
   ]
  },
  {
   "cell_type": "code",
   "execution_count": 49,
   "metadata": {},
   "outputs": [
    {
     "name": "stdout",
     "output_type": "stream",
     "text": [
      "Is Color == Red?\n",
      "--> True:\n",
      "  Predict {'Grape': 2}\n",
      "--> False:\n",
      "  Is Color == Yellow?\n",
      "  --> True:\n",
      "    Predict {'Mango': 1, 'Lemon': 1}\n",
      "  --> False:\n",
      "    Predict {'Mango': 1}\n",
      "Actual: Mango. Predicted: {'Mango': '100%'}\n",
      "Actual: Mango. Predicted: {'Mango': '50%', 'Lemon': '50%'}\n",
      "Actual: Grape. Predicted: {'Grape': '100%'}\n",
      "Actual: Grape. Predicted: {'Grape': '100%'}\n",
      "Actual: Lemon. Predicted: {'Mango': '50%', 'Lemon': '50%'}\n"
     ]
    }
   ],
   "source": [
    "if __name__ == '__main__':\n",
    "    my_tree = build_tree(training_data)\n",
    "    print_tree(my_tree)\n",
    "    \n",
    "    testing_data = [\n",
    "        ['Green', 3, 'Mango'],\n",
    "        ['Yellow', 4, 'Mango'],\n",
    "        ['Red', 2, 'Grape'],\n",
    "        ['Red', 1, 'Grape'],\n",
    "        ['Yellow', 3, 'Lemon'],\n",
    "    ]\n",
    "    \n",
    "    for row in testing_data:\n",
    "        print(\"Actual: %s. Predicted: %s\"%\n",
    "             (row[-1], print_leaf(classify(row, my_tree))))"
   ]
  },
  {
   "cell_type": "code",
   "execution_count": null,
   "metadata": {},
   "outputs": [],
   "source": []
  },
  {
   "cell_type": "code",
   "execution_count": null,
   "metadata": {},
   "outputs": [],
   "source": []
  },
  {
   "cell_type": "code",
   "execution_count": null,
   "metadata": {},
   "outputs": [],
   "source": []
  }
 ],
 "metadata": {
  "kernelspec": {
   "display_name": "Python 3",
   "language": "python",
   "name": "python3"
  },
  "language_info": {
   "codemirror_mode": {
    "name": "ipython",
    "version": 3
   },
   "file_extension": ".py",
   "mimetype": "text/x-python",
   "name": "python",
   "nbconvert_exporter": "python",
   "pygments_lexer": "ipython3",
   "version": "3.6.5"
  }
 },
 "nbformat": 4,
 "nbformat_minor": 2
}
